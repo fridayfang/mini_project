{
 "cells": [
  {
   "cell_type": "code",
   "execution_count": 2,
   "id": "2524c72b-7625-440a-af79-6772adfcdc91",
   "metadata": {},
   "outputs": [
    {
     "name": "stdout",
     "output_type": "stream",
     "text": [
      "100 140690277551440\n",
      "10 140690277548560\n"
     ]
    }
   ],
   "source": [
    "int_a = 10\n",
    "def foo(int_a):\n",
    "    int_a = 100\n",
    "    print(f\"{int_a} {id(int_a)}\")\n",
    "foo(int_a)\n",
    "print(f\"{int_a} {id(int_a)}\")\n"
   ]
  },
  {
   "cell_type": "markdown",
   "id": "a4027178-13d3-4cb4-8363-455939a130df",
   "metadata": {},
   "source": [
    "因为 int_a 所绑定的内容是不可变的, 所以 foo() 里面的 int_a 实际上是另一个对象"
   ]
  },
  {
   "cell_type": "code",
   "execution_count": 3,
   "id": "07d3dd3a-197f-431a-9365-6159e2be7671",
   "metadata": {},
   "outputs": [
    {
     "name": "stdout",
     "output_type": "stream",
     "text": [
      "[100] 140690177481344\n",
      "[100] 140690177481344\n"
     ]
    }
   ],
   "source": [
    "obj_a = []\n",
    "def foo(obj_a):\n",
    "    obj_a.append(100)\n",
    "    print(f\"{obj_a} {id(obj_a)}\")\n",
    "foo(obj_a)\n",
    "print(f\"{obj_a} {id(obj_a)}\")"
   ]
  },
  {
   "cell_type": "markdown",
   "id": "d54d6856-6d0b-4c10-b65a-39a57b5057dc",
   "metadata": {},
   "source": [
    "因为 obj_a 所绑定的内容是可变的object, 所以 foo() 里面的 obj_a 实际上是同一个对象\n",
    "这个性质是由对象本身决定的"
   ]
  },
  {
   "cell_type": "code",
   "execution_count": null,
   "id": "606f3a59-e4ec-4b58-bced-4a2388f3ef97",
   "metadata": {},
   "outputs": [],
   "source": []
  }
 ],
 "metadata": {
  "kernelspec": {
   "display_name": "Python 3 (ipykernel)",
   "language": "python",
   "name": "python3"
  },
  "language_info": {
   "codemirror_mode": {
    "name": "ipython",
    "version": 3
   },
   "file_extension": ".py",
   "mimetype": "text/x-python",
   "name": "python",
   "nbconvert_exporter": "python",
   "pygments_lexer": "ipython3",
   "version": "3.10.12"
  }
 },
 "nbformat": 4,
 "nbformat_minor": 5
}
