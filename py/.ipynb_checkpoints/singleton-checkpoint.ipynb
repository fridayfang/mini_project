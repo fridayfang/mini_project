{
 "cells": [
  {
   "cell_type": "markdown",
   "id": "675d4e6e-9153-4e30-81d0-bbd3fe817d08",
   "metadata": {},
   "source": [
    "## 基于装饰器实现单例"
   ]
  },
  {
   "cell_type": "code",
   "execution_count": 1,
   "id": "9d52e0d5-3ddf-4215-a99b-a86c8c030ee5",
   "metadata": {},
   "outputs": [],
   "source": [
    "from functools import wraps\n",
    "def singleton(cls):\n",
    "    instances = {}\n",
    "    @wraps(cls)\n",
    "    def wrapper(*args, **kwargs):\n",
    "        if cls not in instances:\n",
    "            instances[cls] = cls(*args, **kwargs)\n",
    "        return instances[cls]\n",
    "    return wrapper\n",
    "@singleton\n",
    "class OneInstanceClass:\n",
    "    pass\n"
   ]
  },
  {
   "cell_type": "markdown",
   "id": "f77a0e81-0ab7-4765-ba3a-f5996cf05724",
   "metadata": {},
   "source": [
    "### `singleton` 装饰器\n",
    "\n",
    "1. **定义 `singleton` 函数**：\n",
    "   - `singleton` 函数接受一个类 `cls` 作为参数。它的目的是确保 `cls` 只有一个实例。\n",
    "\n",
    "2. **内部字典 `instances`**：\n",
    "   - `instances` 是一个字典，用于存储已创建的实例。它的键是类（例如 `OneInstanceClass`），值是该类的实例。\n",
    "\n",
    "3. **`wrapper` 函数**：\n",
    "   - 这是一个内部函数，用 `@wraps(cls)` 装饰。`@wraps(cls)` 是一个来自 `functools` 模块的装饰器，用于保留原始函数（在这种情况下是类的构造函数）的元数据（如名称、文档字符串等）。\n",
    "   - `wrapper` 函数接受任意数量的位置参数（`*args`）和关键字参数（`**kwargs`）。这些参数用于在需要时实例化类。\n",
    "\n",
    "4. **检查实例是否存在**：\n",
    "   - `wrapper` 函数首先检查 `cls` 是否已在 `instances` 字典中。如果不在，它将创建一个新实例并存储在字典中。如果已存在，它将返回现有实例。\n",
    "\n",
    "5. **返回 `wrapper` 函数**：\n",
    "   - `singleton` 装饰器返回 `wrapper` 函数。\n"
   ]
  },
  {
   "cell_type": "code",
   "execution_count": 2,
   "id": "736ee9bf-6337-40b2-a732-20269e86b290",
   "metadata": {},
   "outputs": [
    {
     "name": "stdout",
     "output_type": "stream",
     "text": [
      "True\n"
     ]
    }
   ],
   "source": [
    "a = OneInstanceClass()\n",
    "b = OneInstanceClass()\n",
    "print(a is b)"
   ]
  },
  {
   "cell_type": "code",
   "execution_count": 3,
   "id": "824d7814-f375-4c91-ad37-676a11e7088f",
   "metadata": {},
   "outputs": [
    {
     "name": "stdout",
     "output_type": "stream",
     "text": [
      "140264041422592 140264041422592\n"
     ]
    }
   ],
   "source": [
    "print(f\"{id(a)} {id(b)}\")"
   ]
  },
  {
   "cell_type": "markdown",
   "id": "62ded30a-7f90-498a-81b9-03d1499be5f1",
   "metadata": {},
   "source": [
    "## 基于元类实现单例"
   ]
  },
  {
   "cell_type": "code",
   "execution_count": 5,
   "id": "64406e66-5b54-447d-b486-3d05af944ede",
   "metadata": {},
   "outputs": [],
   "source": [
    "class SingletonMeta(type):\n",
    "    def __init__(cls, *args, **kwargs):\n",
    "        cls.__instance = None\n",
    "        super().__init__(*args, **kwargs)\n",
    "    def __call__(cls, *args, **kwargs):\n",
    "        if cls.__instance is None:\n",
    "            cls.__instance = super().__call__(*args, **kwargs)\n",
    "        return cls.__instance\n",
    "\n",
    "class Earth(metaclass=SingletonMeta):\n",
    "    pass"
   ]
  },
  {
   "cell_type": "code",
   "execution_count": 6,
   "id": "b45c1d26-d037-4fd6-9461-75541f8cf7c8",
   "metadata": {},
   "outputs": [
    {
     "name": "stdout",
     "output_type": "stream",
     "text": [
      "True\n",
      "140264041423408 140264041423408\n"
     ]
    }
   ],
   "source": [
    "a = Earth()\n",
    "b = Earth()\n",
    "print(a is b)\n",
    "print(f\"{id(a)} {id(b)}\")"
   ]
  },
  {
   "cell_type": "markdown",
   "id": "324cafcf-31e1-43e8-a953-2ca6719acbd8",
   "metadata": {},
   "source": [
    "代码实现了一个单例模式（Singleton pattern）的元类 `SingletonMeta`。在这个上下文中，元类是创建类的“类”。单例模式确保类只有一个实例，并提供全局访问点。\n",
    "\n",
    "#### `SingletonMeta` 元类\n",
    "\n",
    "- `__init__`: 是在创建类时调用的初始化方法。在这个例子中，它首先设置 `cls.__instance` 为 `None`，确保初始时没有实例。然后调用超类的 `__init__` 方法，传递任何额外的参数。\n",
    "\n",
    "- `__call__`: 是在类实例化时调用的方法。在这个例子中，`__call__` 首先检查 `cls.__instance` 是否为 `None`（即还没有实例化）。如果没有实例化，它将创建一个新的实例。如果已经有一个实例，它将返回这个现有的实例。这保证了 `Earth` 类的任何实例都是同一个对象。\n",
    "\n",
    "1. **`__init__` 和 `__call__` 的区别**\n",
    "   - `__init__` 是当类被定义时调用的初始化方法。对于元类来说，这发生在它的实例（也就是普通的类）被创建时。\n",
    "   - `__call__` 是当类的实例被创建时调用的方法。对于元类来说，这发生在它的实例（普通类）被用来创建对象时。\n",
    "\n",
    "2. **`type` 中的这些接口**\n",
    "   - `type` 是 Python 中所有类的默认元类。它本身确实有 `__init__` 和 `__call__` 方法。在 `SingletonMeta` 中，通过继承 `type` 并重写这些方法，实现了单例模式的特殊行为。\n",
    "\n",
    "3. **`cls, *args, **kwargs` 的含义**\n",
    "   - 在元类的方法中，`cls` 是指当前正在被创建或被实例化的类。这与在普通类方法中的 `self` 类似，`self` 指代类的实例。`*args` 和 `**kwargs` 允许方法接收任意数量的位置参数和关键字参数。"
   ]
  },
  {
   "cell_type": "code",
   "execution_count": null,
   "id": "604512a0-82ad-481b-a3dc-2756273b82c5",
   "metadata": {},
   "outputs": [],
   "source": [
    "class SingletonBase:\n",
    "    _instance = None\n",
    "    "
   ]
  },
  {
   "cell_type": "code",
   "execution_count": 7,
   "id": "ec30cb15-c405-462b-977b-a97bc4448e43",
   "metadata": {},
   "outputs": [
    {
     "name": "stdout",
     "output_type": "stream",
     "text": [
      "args (1, 2, 3, 'a')\n",
      "kwargs {'name': 'fs', 'value': 7}\n"
     ]
    }
   ],
   "source": [
    "def foo_func(*args, **kwargs):\n",
    "    print(f\"args {args}\")\n",
    "    print(f\"kwargs {kwargs}\")\n",
    "foo_func(1,2,3,'a', name='fs', value=7)"
   ]
  },
  {
   "cell_type": "markdown",
   "id": "d8748561-4ca8-42bf-a1b9-7f138a240468",
   "metadata": {},
   "source": [
    "### `*args` 和 `**kwargs`\n",
    "\n",
    "- 这些是 Python 中的特殊符号，用于在函数定义中处理可变数量的参数。\n",
    "- `*args`：代表任意数量的位置参数（非关键字参数）。它在函数内部表现为一个元组。\n",
    "- `**kwargs`：代表任意数量的关键字参数。它在函数内部表现为一个字典。"
   ]
  },
  {
   "cell_type": "code",
   "execution_count": 8,
   "id": "a3d10188-9c21-4b67-ad65-4ef413805bd1",
   "metadata": {},
   "outputs": [
    {
     "name": "stdout",
     "output_type": "stream",
     "text": [
      "1\n",
      "2\n"
     ]
    }
   ],
   "source": [
    "def function_without_unpacking(args, kwargs):\n",
    "    print(args)\n",
    "    print(kwargs)\n",
    "\n",
    "function_without_unpacking(1, 2) # 这会正常打印 1 和 2"
   ]
  },
  {
   "cell_type": "code",
   "execution_count": 9,
   "id": "fab3ecc6-37d2-4745-8762-7261fc503be3",
   "metadata": {},
   "outputs": [
    {
     "name": "stdout",
     "output_type": "stream",
     "text": [
      "(1, 2, 3)\n",
      "{'a': 'foo', 'b': 'bar'}\n"
     ]
    }
   ],
   "source": [
    "def function_with_unpacking(*my_args, **my_kwargs):\n",
    "    print(my_args)   # 这将是一个元组\n",
    "    print(my_kwargs) # 这将是一个字典\n",
    "\n",
    "function_with_unpacking(1, 2, 3, a=\"foo\", b=\"bar\")"
   ]
  },
  {
   "cell_type": "markdown",
   "id": "dcc12b58-9078-4666-8932-f4c5ea2348a6",
   "metadata": {},
   "source": [
    "在 Python 中，当你想在函数中使用可变数量的位置参数或关键字参数时，你需要在参数名前加上 `*` 或 `**`。\n",
    "\n",
    "- `*args`：这里的 `*` 符号表示 \"解包\" 任何传递给 `args` 的额外位置参数，并将它们作为一个元组 (`tuple`) 来处理。不使用 `*` 的话，`args` 会被视为一个普通的参数名称，而不具有特殊的解包功能。\n",
    "\n",
    "- `**kwargs`：同样，`**` 符号表示解包任何额外的关键字参数，并将它们作为一个字典 (`dict`) 来处理。如果只使用一个星号 (`*kwargs`)，它将不会正确地解包和处理关键字参数。\n",
    "\n",
    "虽然不必一定要写作 `args` 和 `kwargs`, 但应该当作一种编码规范"
   ]
  },
  {
   "cell_type": "code",
   "execution_count": null,
   "id": "9f808db2-b7b1-4ecf-ad86-101f33c0b7a3",
   "metadata": {},
   "outputs": [],
   "source": []
  }
 ],
 "metadata": {
  "kernelspec": {
   "display_name": "Python 3 (ipykernel)",
   "language": "python",
   "name": "python3"
  },
  "language_info": {
   "codemirror_mode": {
    "name": "ipython",
    "version": 3
   },
   "file_extension": ".py",
   "mimetype": "text/x-python",
   "name": "python",
   "nbconvert_exporter": "python",
   "pygments_lexer": "ipython3",
   "version": "3.10.12"
  }
 },
 "nbformat": 4,
 "nbformat_minor": 5
}
